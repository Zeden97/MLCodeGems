{
 "cells": [
  {
   "cell_type": "code",
   "execution_count": 1,
   "metadata": {
    "ExecuteTime": {
     "end_time": "2020-03-02T10:30:01.846619Z",
     "start_time": "2020-03-02T10:30:00.750941Z"
    }
   },
   "outputs": [
    {
     "data": {
      "text/plain": [
       "<Figure size 432x288 with 0 Axes>"
      ]
     },
     "metadata": {},
     "output_type": "display_data"
    }
   ],
   "source": [
    "%matplotlib inline\n",
    "import math\n",
    "from scratch.probability import normal_cdf, binomial, normal_pdf, inverse_normal_cdf\n",
    "import matplotlib.pyplot as plt\n",
    "import seaborn as sns\n",
    "import random"
   ]
  },
  {
   "cell_type": "markdown",
   "metadata": {
    "heading_collapsed": true
   },
   "source": [
    "# Coin flipping Example"
   ]
  },
  {
   "cell_type": "markdown",
   "metadata": {
    "hidden": true
   },
   "source": [
    "Null hypothesis is default assumption i.e. coin is fair P(Head) = p = 0.5\n",
    "\n",
    "Alternative hypothesis is p!=5\n",
    "\n",
    "To find fairness of coin, we will do experiment where we flip coin n=1000 times and assumed p = 0.5. \n",
    "\n",
    "Counting the number of heads X is a random variable of Binomial(n,p)\n",
    "\n",
    "**Note:** We can never accept null hypothesis.  We either reject them or \"fail to reject\" them. "
   ]
  },
  {
   "cell_type": "markdown",
   "metadata": {
    "hidden": true
   },
   "source": [
    "### Binomial $\\approx$ Normal for large n"
   ]
  },
  {
   "cell_type": "code",
   "execution_count": 2,
   "metadata": {
    "ExecuteTime": {
     "end_time": "2020-03-02T10:30:01.857589Z",
     "start_time": "2020-03-02T10:30:01.847589Z"
    },
    "hidden": true
   },
   "outputs": [
    {
     "name": "stdout",
     "output_type": "stream",
     "text": [
      "502.8\n"
     ]
    }
   ],
   "source": [
    "n = 1000\n",
    "p = 0.5\n",
    "# Output of 20 such experiments\n",
    "n_exp = 20\n",
    "#expected number of heads\n",
    "E_binomial = sum([binomial(n,p) for i in range(n_exp)])/n_exp\n",
    "print(E_binomial)"
   ]
  },
  {
   "cell_type": "markdown",
   "metadata": {
    "hidden": true
   },
   "source": [
    "Binomial(n,p) can be approximated using Normal of mu = p*n and sigma = sqrt(p*(p-1)*n)"
   ]
  },
  {
   "cell_type": "code",
   "execution_count": 3,
   "metadata": {
    "ExecuteTime": {
     "end_time": "2020-03-02T10:30:01.992725Z",
     "start_time": "2020-03-02T10:30:01.860555Z"
    },
    "hidden": true
   },
   "outputs": [
    {
     "data": {
      "text/plain": [
       "(500.0, 15.811388300841896)"
      ]
     },
     "execution_count": 3,
     "metadata": {},
     "output_type": "execute_result"
    }
   ],
   "source": [
    "def normal_approximation_to_binomial(n, p):\n",
    "    \"\"\"finds mu and sigma corresponding to a Binomial(n, p)\"\"\"\n",
    "    mu = p * n\n",
    "    sigma = math.sqrt(p * (1 - p) * n)\n",
    "    return mu, sigma\n",
    "\n",
    "mu, sigma = normal_approximation_to_binomial(n,p)\n",
    "mu,sigma"
   ]
  },
  {
   "cell_type": "code",
   "execution_count": 4,
   "metadata": {
    "ExecuteTime": {
     "end_time": "2020-03-02T10:30:02.145745Z",
     "start_time": "2020-03-02T10:30:01.995718Z"
    },
    "hidden": true
   },
   "outputs": [
    {
     "data": {
      "text/plain": [
       "499.9998492108507"
      ]
     },
     "execution_count": 4,
     "metadata": {},
     "output_type": "execute_result"
    }
   ],
   "source": [
    "# expected number of heads \n",
    "E_normal = inverse_normal_cdf(p,mu,sigma)\n",
    "E_normal"
   ]
  },
  {
   "cell_type": "code",
   "execution_count": 5,
   "metadata": {
    "ExecuteTime": {
     "end_time": "2020-03-02T10:30:02.297862Z",
     "start_time": "2020-03-02T10:30:02.151692Z"
    },
    "hidden": true
   },
   "outputs": [
    {
     "data": {
      "text/plain": [
       "0.5600303267228558"
      ]
     },
     "execution_count": 5,
     "metadata": {},
     "output_type": "execute_result"
    }
   ],
   "source": [
    "percent_diff = abs(E_binomial - E_normal)*100.0/E_normal\n",
    "percent_diff"
   ]
  },
  {
   "cell_type": "markdown",
   "metadata": {
    "ExecuteTime": {
     "end_time": "2020-03-02T07:45:38.967506Z",
     "start_time": "2020-03-02T07:45:38.963518Z"
    },
    "hidden": true
   },
   "source": [
    "As you can see above E_normal $\\approx$ E_binomial when n is large"
   ]
  },
  {
   "cell_type": "code",
   "execution_count": 6,
   "metadata": {
    "ExecuteTime": {
     "end_time": "2020-03-02T10:30:02.910712Z",
     "start_time": "2020-03-02T10:30:02.303818Z"
    },
    "hidden": true
   },
   "outputs": [
    {
     "data": {
      "text/html": [
       "<div>\n",
       "<style scoped>\n",
       "    .dataframe tbody tr th:only-of-type {\n",
       "        vertical-align: middle;\n",
       "    }\n",
       "\n",
       "    .dataframe tbody tr th {\n",
       "        vertical-align: top;\n",
       "    }\n",
       "\n",
       "    .dataframe thead th {\n",
       "        text-align: right;\n",
       "    }\n",
       "</style>\n",
       "<table border=\"1\" class=\"dataframe\">\n",
       "  <thead>\n",
       "    <tr style=\"text-align: right;\">\n",
       "      <th></th>\n",
       "      <th>n</th>\n",
       "      <th>percent_diff</th>\n",
       "    </tr>\n",
       "  </thead>\n",
       "  <tbody>\n",
       "    <tr>\n",
       "      <th>0</th>\n",
       "      <td>10</td>\n",
       "      <td>12.999738</td>\n",
       "    </tr>\n",
       "    <tr>\n",
       "      <th>1</th>\n",
       "      <td>100</td>\n",
       "      <td>4.399909</td>\n",
       "    </tr>\n",
       "    <tr>\n",
       "      <th>2</th>\n",
       "      <td>1000</td>\n",
       "      <td>0.280030</td>\n",
       "    </tr>\n",
       "    <tr>\n",
       "      <th>3</th>\n",
       "      <td>10000</td>\n",
       "      <td>0.028010</td>\n",
       "    </tr>\n",
       "    <tr>\n",
       "      <th>4</th>\n",
       "      <td>100000</td>\n",
       "      <td>0.063197</td>\n",
       "    </tr>\n",
       "  </tbody>\n",
       "</table>\n",
       "</div>"
      ],
      "text/plain": [
       "        n  percent_diff\n",
       "0      10     12.999738\n",
       "1     100      4.399909\n",
       "2    1000      0.280030\n",
       "3   10000      0.028010\n",
       "4  100000      0.063197"
      ]
     },
     "execution_count": 6,
     "metadata": {},
     "output_type": "execute_result"
    }
   ],
   "source": [
    "import pandas\n",
    "\n",
    "n_list = []\n",
    "percent_diff_list = []\n",
    "\n",
    "for n in [10,100,1000,10000,100000]:\n",
    "    p = 0.5\n",
    "    # Output of 20 such experiments\n",
    "    n_exp = 20\n",
    "    #expected number of heads\n",
    "    E_binomial = sum([binomial(n,p) for i in range(n_exp)])/n_exp\n",
    "    \n",
    "    mu, sigma = normal_approximation_to_binomial(n,p)\n",
    "    E_normal = inverse_normal_cdf(p,mu,sigma)\n",
    "    percent_diff = abs(E_binomial - E_normal)*100.0/E_normal\n",
    "    n_list.append(n)\n",
    "    percent_diff_list.append(percent_diff)\n",
    "\n",
    "plot_df = pandas.DataFrame({'n':n_list,'percent_diff':percent_diff_list})\n",
    "plot_df    "
   ]
  },
  {
   "cell_type": "code",
   "execution_count": 7,
   "metadata": {
    "ExecuteTime": {
     "end_time": "2020-03-02T10:30:03.046356Z",
     "start_time": "2020-03-02T10:30:02.911709Z"
    },
    "hidden": true
   },
   "outputs": [
    {
     "data": {
      "text/plain": [
       "<matplotlib.axes._subplots.AxesSubplot at 0x1ce0f11a160>"
      ]
     },
     "execution_count": 7,
     "metadata": {},
     "output_type": "execute_result"
    },
    {
     "data": {
      "image/png": "[encoded data removed]",
      "text/plain": [
       "<Figure size 432x288 with 1 Axes>"
      ]
     },
     "metadata": {
      "needs_background": "light"
     },
     "output_type": "display_data"
    }
   ],
   "source": [
    "sns.scatterplot(x='n',y='percent_diff',data=plot_df)"
   ]
  },
  {
   "cell_type": "markdown",
   "metadata": {
    "hidden": true
   },
   "source": [
    "## Decision making\n",
    "\n",
    "* The first step is to state the relevant null and alternative hypotheses.\n",
    "    * Null hypothesis is p=0.5\n",
    "    * alternate hypothesis is p$\\neq$0.5\n",
    "* Select a significance level (α), a probability threshold below which the null hypothesis will be rejected. Common values are 5% and 1%.\n",
    "    * Lets take 5% significance level i.e. 5% type 1 error (false positive error) when we incorrectly reject null hypothesis\n",
    "    * i.e. We \"fail to reject\" null hypothesis with 95% confidence\n",
    "    \n",
    "**Note:** A \"negative\" is a decision in favor of the null hypothesis and a \"positive\" is a decision in favor of the alternative hypothesis.\n",
    "\n",
    "\n",
    "Hence, type 1 error = incorrectly reject null hypothesis = False positive\n",
    "\n",
    "where, Reject null hypothesis = \"positive\" decision in favor of the alternative hypothesis.\n",
    "\n",
    "Similarly:\n",
    "\n",
    "type 2 error = incorrectly \"fail to reject\" null hypothesis = False negative\n",
    "\n",
    "where, \"fail to reject\" null hypothesis = decision in favor of the null hypothesis\n",
    "\n"
   ]
  },
  {
   "cell_type": "markdown",
   "metadata": {
    "hidden": true
   },
   "source": [
    "![Type 1 and Type 2 errors](https://secure-media.collegeboard.org/apc/12538_gra1.gif)"
   ]
  },
  {
   "cell_type": "markdown",
   "metadata": {
    "hidden": true
   },
   "source": [
    "## Significance level of test"
   ]
  },
  {
   "cell_type": "code",
   "execution_count": 8,
   "metadata": {
    "ExecuteTime": {
     "end_time": "2020-03-02T10:30:03.054297Z",
     "start_time": "2020-03-02T10:30:03.047316Z"
    },
    "hidden": true
   },
   "outputs": [],
   "source": [
    "# the normal cdf _is_ the probability the variable is below a threshold\n",
    "normal_probability_below = normal_cdf\n",
    "# it's above the threshold if it's not below the threshold\n",
    "def normal_probability_above(lo, mu=0, sigma=1):\n",
    "    return 1 - normal_cdf(lo, mu, sigma)\n",
    "# it's between if it's less than hi, but not less than lo\n",
    "def normal_probability_between(lo, hi, mu=0, sigma=1):\n",
    "    return normal_cdf(hi, mu, sigma) - normal_cdf(lo, mu, sigma)\n",
    "# it's outside if it's not between\n",
    "def normal_probability_outside(lo, hi, mu=0, sigma=1):\n",
    "    return 1 - normal_probability_between(lo, hi, mu, sigma)"
   ]
  },
  {
   "cell_type": "code",
   "execution_count": 9,
   "metadata": {
    "ExecuteTime": {
     "end_time": "2020-03-02T10:30:03.193302Z",
     "start_time": "2020-03-02T10:30:03.055294Z"
    },
    "hidden": true
   },
   "outputs": [],
   "source": [
    "def normal_upper_bound(probability, mu=0, sigma=1):\n",
    "    \"\"\"returns the z for which P(Z <= z) = probability\"\"\"\n",
    "    return inverse_normal_cdf(probability, mu, sigma)\n",
    "def normal_lower_bound(probability, mu=0, sigma=1):\n",
    "    \"\"\"returns the z for which P(Z >= z) = probability\"\"\"\n",
    "    return inverse_normal_cdf(1 - probability, mu, sigma)\n",
    "def normal_two_sided_bounds(probability, mu=0, sigma=1):\n",
    "    \"\"\"returns the symmetric (about the mean) bounds\n",
    "    that contain the specified probability\"\"\"\n",
    "    tail_probability = (1 - probability) / 2\n",
    "    # upper bound should have tail_probability above it\n",
    "    upper_bound = normal_lower_bound(tail_probability, mu, sigma)\n",
    "    # lower bound should have tail_probability below it\n",
    "    lower_bound = normal_upper_bound(tail_probability, mu, sigma)\n",
    "    return lower_bound, upper_bound"
   ]
  },
  {
   "cell_type": "code",
   "execution_count": 10,
   "metadata": {
    "ExecuteTime": {
     "end_time": "2020-03-02T10:30:03.303305Z",
     "start_time": "2020-03-02T10:30:03.198296Z"
    },
    "hidden": true
   },
   "outputs": [
    {
     "data": {
      "text/plain": [
       "(500.0, 15.811388300841896)"
      ]
     },
     "execution_count": 10,
     "metadata": {},
     "output_type": "execute_result"
    }
   ],
   "source": [
    "n = 1000\n",
    "p = 0.5\n",
    "mu_0, sigma_0 = normal_approximation_to_binomial(1000, 0.5)\n",
    "mu_0, sigma_0"
   ]
  },
  {
   "cell_type": "code",
   "execution_count": 11,
   "metadata": {
    "ExecuteTime": {
     "end_time": "2020-03-02T10:30:03.421772Z",
     "start_time": "2020-03-02T10:30:03.306289Z"
    },
    "hidden": true
   },
   "outputs": [
    {
     "data": {
      "text/plain": [
       "(469.01026640487555, 530.9897335951244)"
      ]
     },
     "execution_count": 11,
     "metadata": {},
     "output_type": "execute_result"
    }
   ],
   "source": [
    "# 5% error that coin is fair, hence probability is 0.95\n",
    "lo, hi= normal_two_sided_bounds(0.95, mu_0, sigma_0)\n",
    "lo,hi"
   ]
  },
  {
   "cell_type": "markdown",
   "metadata": {
    "hidden": true
   },
   "source": [
    "if number of heads is in range [lo, hi] then we \"fail to reject\" H0/\"null hypothesis\" with 95% confidence or 5% error.\n",
    "\n",
    "Confidence interval of [lo,hi] for significance of 5%."
   ]
  },
  {
   "cell_type": "markdown",
   "metadata": {
    "hidden": true
   },
   "source": [
    "Assuming p really equals 0.5 (i.e., H0 is true), there is just a 5% chance we observe an\n",
    "X that lies outside this interval, which is the exact significance we wanted. Said differently,\n",
    "if H0 is true, then, approximately 19 times out of 20, this test will give the correct\n",
    "result."
   ]
  },
  {
   "cell_type": "markdown",
   "metadata": {
    "hidden": true
   },
   "source": [
    "## Power of test"
   ]
  },
  {
   "cell_type": "markdown",
   "metadata": {
    "hidden": true
   },
   "source": [
    "**Power** of a test, which is the probability of not making a type 2 error, in which we fail to reject H0 even though it’s false."
   ]
  },
  {
   "cell_type": "markdown",
   "metadata": {
    "ExecuteTime": {
     "end_time": "2020-03-02T08:59:06.441507Z",
     "start_time": "2020-03-02T08:59:06.436521Z"
    },
    "hidden": true
   },
   "source": [
    "Power = 1 - $\\beta$, where $\\beta$ = P(type 2 error)\n",
    "\n",
    "type 2 error = false negative =  \"fail to reject H0\" when H0 is False"
   ]
  },
  {
   "cell_type": "markdown",
   "metadata": {
    "ExecuteTime": {
     "end_time": "2020-03-02T09:02:03.713477Z",
     "start_time": "2020-03-02T09:02:03.709458Z"
    },
    "hidden": true
   },
   "source": [
    "Since H0 is False let actual p=0.55. Note we had assumed H0 of p=0.5"
   ]
  },
  {
   "cell_type": "code",
   "execution_count": 12,
   "metadata": {
    "ExecuteTime": {
     "end_time": "2020-03-02T10:30:03.644020Z",
     "start_time": "2020-03-02T10:30:03.426764Z"
    },
    "hidden": true
   },
   "outputs": [
    {
     "data": {
      "text/plain": [
       "(469.01026640487555, 530.9897335951244)"
      ]
     },
     "execution_count": 12,
     "metadata": {},
     "output_type": "execute_result"
    }
   ],
   "source": [
    "mu_0, sigma_0 = normal_approximation_to_binomial(n=1000,p=0.5) #since we assumed p=0.5\n",
    "lo, hi = normal_two_sided_bounds(0.95, mu_0, sigma_0)\n",
    "lo,hi"
   ]
  },
  {
   "cell_type": "code",
   "execution_count": 13,
   "metadata": {
    "ExecuteTime": {
     "end_time": "2020-03-02T10:30:03.839333Z",
     "start_time": "2020-03-02T10:30:03.648976Z"
    },
    "hidden": true
   },
   "outputs": [
    {
     "data": {
      "text/plain": [
       "0.11345199870463285"
      ]
     },
     "execution_count": 13,
     "metadata": {},
     "output_type": "execute_result"
    }
   ],
   "source": [
    "# a type 2 error means we fail to reject the null hypothesis\n",
    "# which will happen when X is still in our original interval\n",
    "\n",
    "\"\"\"Probability that number of heads is in range [lo,hi] calculated by assuming p=0.5\n",
    "but actually p!=0.5, p=0.55 = type_2_probability\"\"\"\n",
    "# actual mu and sigma based on p = 0.55\n",
    "mu_1, sigma_1 = normal_approximation_to_binomial(1000, 0.55)\n",
    "type_2_probability = normal_probability_between(lo, hi, mu_1, sigma_1)\n",
    "type_2_probability"
   ]
  },
  {
   "cell_type": "code",
   "execution_count": 14,
   "metadata": {
    "ExecuteTime": {
     "end_time": "2020-03-02T10:30:03.976369Z",
     "start_time": "2020-03-02T10:30:03.841327Z"
    },
    "hidden": true
   },
   "outputs": [
    {
     "data": {
      "text/plain": [
       "0.8865480012953671"
      ]
     },
     "execution_count": 14,
     "metadata": {},
     "output_type": "execute_result"
    }
   ],
   "source": [
    "power = 1 - type_2_probability\n",
    "power"
   ]
  },
  {
   "cell_type": "markdown",
   "metadata": {
    "hidden": true
   },
   "source": [
    "## P-value\n",
    "\n",
    "**P-value:**  P-value is the probability of obtaining results as extreme as the observed results of a statistical hypothesis test, assuming that the null hypothesis is correct. A smaller p-value means that there is stronger evidence in favor of the alternative hypothesis.\n",
    "\n",
    "For our example of H0: p=0.5\n",
    "Lets assume H0 is true than number of heads should be in confidence interval of [lo,hi] = [469.01, 530.98]\n",
    "Let observed value is 530\n",
    "\n",
    "For our two-sided test:"
   ]
  },
  {
   "cell_type": "code",
   "execution_count": 15,
   "metadata": {
    "ExecuteTime": {
     "end_time": "2020-03-02T10:30:04.139424Z",
     "start_time": "2020-03-02T10:30:03.981356Z"
    },
    "hidden": true
   },
   "outputs": [
    {
     "data": {
      "text/plain": [
       "0.06207721579598857"
      ]
     },
     "execution_count": 15,
     "metadata": {},
     "output_type": "execute_result"
    }
   ],
   "source": [
    "def two_sided_p_value(x, mu=0, sigma=1):\n",
    "    if x >= mu:\n",
    "        # if x is greater than the mean, the tail is what's greater than x\n",
    "        return 2 * normal_probability_above(x, mu, sigma)\n",
    "    else:\n",
    "        # if x is less than the mean, the tail is what's less than x\n",
    "        return 2 * normal_probability_below(x, mu, sigma)\n",
    "\n",
    "\"\"\"Why did we use 529.5 instead of 530? This is what’s called a continuity correction. \n",
    "It reflects the fact that normal_probability_between(529.5, 530.5, mu_0, sigma_0)\"\"\"\n",
    "two_sided_p_value(529.5, mu_0,sigma_0)"
   ]
  },
  {
   "cell_type": "markdown",
   "metadata": {
    "hidden": true
   },
   "source": [
    "One way to convince yourself that this is a sensible estimate is with a simulation, as shown below"
   ]
  },
  {
   "cell_type": "code",
   "execution_count": 16,
   "metadata": {
    "ExecuteTime": {
     "end_time": "2020-03-02T10:30:17.487846Z",
     "start_time": "2020-03-02T10:30:04.141450Z"
    },
    "hidden": true
   },
   "outputs": [
    {
     "name": "stdout",
     "output_type": "stream",
     "text": [
      "0.06351\n"
     ]
    }
   ],
   "source": [
    "extreme_value_count = 0\n",
    "for _ in range(100000):\n",
    "    \"\"\"\n",
    "    count # of heads in 1000 flips\n",
    "    and count how often the # is 'extreme'\n",
    "    i.e. \n",
    "    \"\"\"\n",
    "    num_heads = sum(1 if random.random() < 0.5 else 0 for _ in range(1000))\n",
    "    if num_heads >= 530 or num_heads <= (mu_0-(530-mu_0)):              \n",
    "        extreme_value_count += 1\n",
    "    \n",
    "print(extreme_value_count / 100000) # 0.062"
   ]
  },
  {
   "cell_type": "markdown",
   "metadata": {
    "hidden": true
   },
   "source": [
    "Since the p-value is greater than our 5% significance, we don’t reject the null. \n",
    "\n",
    "If we instead saw 532 heads, the p-value would be"
   ]
  },
  {
   "cell_type": "code",
   "execution_count": 17,
   "metadata": {
    "ExecuteTime": {
     "end_time": "2020-03-02T10:30:17.504800Z",
     "start_time": "2020-03-02T10:30:17.490838Z"
    },
    "hidden": true
   },
   "outputs": [
    {
     "data": {
      "text/plain": [
       "0.046345287837786575"
      ]
     },
     "execution_count": 17,
     "metadata": {},
     "output_type": "execute_result"
    }
   ],
   "source": [
    "two_sided_p_value(531.5, mu_0, sigma_0)"
   ]
  },
  {
   "cell_type": "markdown",
   "metadata": {
    "hidden": true
   },
   "source": [
    "Which is smaller than the 5% significance, which means we would reject the null. It’s\n",
    "the exact same test as before. It’s just a different way of approaching the statistics."
   ]
  },
  {
   "cell_type": "markdown",
   "metadata": {
    "heading_collapsed": true
   },
   "source": [
    "# Coin flipping example 2\n",
    "\n",
    "null hypothesis is coin is not biased toward heads, or that p ≤ 0 . 5. Let significance level is 5%"
   ]
  },
  {
   "cell_type": "code",
   "execution_count": 18,
   "metadata": {
    "ExecuteTime": {
     "end_time": "2020-03-02T10:30:17.614538Z",
     "start_time": "2020-03-02T10:30:17.510784Z"
    },
    "hidden": true
   },
   "outputs": [
    {
     "data": {
      "text/plain": [
       "526.0073585242053"
      ]
     },
     "execution_count": 18,
     "metadata": {},
     "output_type": "execute_result"
    }
   ],
   "source": [
    "hi = normal_upper_bound(0.95, mu_0, sigma_0) # 0.95 since significance level is 5%\n",
    "hi"
   ]
  },
  {
   "cell_type": "markdown",
   "metadata": {
    "hidden": true
   },
   "source": [
    "If number of heads if less equal to than 526 we decide in favor of null hypothesis with confidence of 95%. "
   ]
  },
  {
   "cell_type": "code",
   "execution_count": 19,
   "metadata": {
    "ExecuteTime": {
     "end_time": "2020-03-02T10:30:17.714273Z",
     "start_time": "2020-03-02T10:30:17.616502Z"
    },
    "hidden": true
   },
   "outputs": [
    {
     "data": {
      "text/plain": [
       "0.9363794803307173"
      ]
     },
     "execution_count": 19,
     "metadata": {},
     "output_type": "execute_result"
    }
   ],
   "source": [
    "#Actually p = 0.55\n",
    "mu_1, sigma_1 = normal_approximation_to_binomial(1000, 0.55)\n",
    "# type_2_probability = incorrectly decide in favour of null hypothesis i.e. Number of heads is less than hi = 526\n",
    "type_2_probability = normal_probability_below(hi,mu_1, sigma_1)\n",
    "power = 1 - type_2_probability\n",
    "power"
   ]
  },
  {
   "cell_type": "markdown",
   "metadata": {
    "hidden": true
   },
   "source": [
    "Coin flipping example 2 is more powerful test"
   ]
  },
  {
   "cell_type": "markdown",
   "metadata": {
    "hidden": true
   },
   "source": [
    "## P-value"
   ]
  },
  {
   "cell_type": "markdown",
   "metadata": {
    "hidden": true
   },
   "source": [
    "This is one sided test hence if observed value is 525 than"
   ]
  },
  {
   "cell_type": "code",
   "execution_count": 20,
   "metadata": {
    "ExecuteTime": {
     "end_time": "2020-03-02T10:30:18.160049Z",
     "start_time": "2020-03-02T10:30:17.715239Z"
    },
    "hidden": true
   },
   "outputs": [
    {
     "data": {
      "text/plain": [
       "0.06062885772582083"
      ]
     },
     "execution_count": 20,
     "metadata": {},
     "output_type": "execute_result"
    }
   ],
   "source": [
    "upper_p_value = normal_probability_above\n",
    "lower_p_value = normal_probability_below\n",
    "\n",
    "p_value = upper_p_value(524.5, mu_0, sigma_0) # 0.061\n",
    "p_value"
   ]
  },
  {
   "cell_type": "markdown",
   "metadata": {},
   "source": [
    "# Confidence Intervals"
   ]
  },
  {
   "cell_type": "code",
   "execution_count": 22,
   "metadata": {
    "ExecuteTime": {
     "end_time": "2020-03-02T11:07:18.568637Z",
     "start_time": "2020-03-02T11:07:18.563650Z"
    }
   },
   "outputs": [
    {
     "data": {
      "text/plain": [
       "(0.5091095927295919, 0.5708904072704082)"
      ]
     },
     "execution_count": 22,
     "metadata": {},
     "output_type": "execute_result"
    }
   ],
   "source": [
    "# If we have seen 540 heads\n",
    "p_hat = 540 / 1000\n",
    "mu = p_hat\n",
    "sigma = math.sqrt(p_hat * (1 - p_hat) / 1000) # 0.0158\n",
    "normal_two_sided_bounds(0.95, mu, sigma) # [0.5091, 0.5709]"
   ]
  },
  {
   "cell_type": "markdown",
   "metadata": {},
   "source": [
    "# P-hacking"
   ]
  },
  {
   "cell_type": "code",
   "execution_count": 23,
   "metadata": {
    "ExecuteTime": {
     "end_time": "2020-03-02T11:07:41.473511Z",
     "start_time": "2020-03-02T11:07:41.470546Z"
    }
   },
   "outputs": [],
   "source": [
    "def run_experiment():\n",
    "    \"\"\"flip a fair coin 1000 times, True = heads, False = tails\"\"\"\n",
    "    return [random.random() < 0.5 for _ in range(1000)]"
   ]
  },
  {
   "cell_type": "code",
   "execution_count": 24,
   "metadata": {
    "ExecuteTime": {
     "end_time": "2020-03-02T11:07:57.009568Z",
     "start_time": "2020-03-02T11:07:57.005580Z"
    }
   },
   "outputs": [],
   "source": [
    "def reject_fairness(experiment):\n",
    "    \"\"\"using the 5% significance levels\"\"\"\n",
    "    num_heads = len([flip for flip in experiment if flip])\n",
    "    return num_heads < 469 or num_heads > 531"
   ]
  },
  {
   "cell_type": "code",
   "execution_count": 27,
   "metadata": {
    "ExecuteTime": {
     "end_time": "2020-03-02T11:08:37.594901Z",
     "start_time": "2020-03-02T11:08:37.462228Z"
    }
   },
   "outputs": [
    {
     "data": {
      "text/plain": [
       "46"
      ]
     },
     "execution_count": 27,
     "metadata": {},
     "output_type": "execute_result"
    }
   ],
   "source": [
    "random.seed(0)\n",
    "experiments = [run_experiment() for _ in range(1000)]\n",
    "num_rejections = len([experiment \n",
    "                    for experiment in experiments\n",
    "                    if reject_fairness(experiment)])\n",
    "num_rejections"
   ]
  },
  {
   "cell_type": "code",
   "execution_count": 28,
   "metadata": {
    "ExecuteTime": {
     "end_time": "2020-03-02T11:13:33.017978Z",
     "start_time": "2020-03-02T11:13:33.013989Z"
    }
   },
   "outputs": [
    {
     "data": {
      "text/plain": [
       "4.6"
      ]
     },
     "execution_count": 28,
     "metadata": {},
     "output_type": "execute_result"
    }
   ],
   "source": [
    "num_rejections*100.0/1000"
   ]
  },
  {
   "cell_type": "markdown",
   "metadata": {},
   "source": [
    "# Example: Running an A/B Test"
   ]
  },
  {
   "cell_type": "code",
   "execution_count": 29,
   "metadata": {
    "ExecuteTime": {
     "end_time": "2020-03-02T11:58:55.998052Z",
     "start_time": "2020-03-02T11:58:55.994063Z"
    }
   },
   "outputs": [],
   "source": [
    "def estimated_parameters(N, n):\n",
    "    p = n / N\n",
    "    sigma = math.sqrt(p * (1 - p) / N)\n",
    "    return p, sigma"
   ]
  },
  {
   "cell_type": "code",
   "execution_count": 30,
   "metadata": {
    "ExecuteTime": {
     "end_time": "2020-03-02T11:59:06.128011Z",
     "start_time": "2020-03-02T11:59:06.122997Z"
    }
   },
   "outputs": [],
   "source": [
    "def a_b_test_statistic(N_A, n_A, N_B, n_B):\n",
    "    p_A, sigma_A = estimated_parameters(N_A, n_A)\n",
    "    p_B, sigma_B = estimated_parameters(N_B, n_B)\n",
    "    return (p_B - p_A) / math.sqrt(sigma_A ** 2 + sigma_B ** 2)"
   ]
  },
  {
   "cell_type": "code",
   "execution_count": 32,
   "metadata": {
    "ExecuteTime": {
     "end_time": "2020-03-02T11:59:31.848413Z",
     "start_time": "2020-03-02T11:59:31.844423Z"
    }
   },
   "outputs": [
    {
     "data": {
      "text/plain": [
       "-1.1403464899034472"
      ]
     },
     "execution_count": 32,
     "metadata": {},
     "output_type": "execute_result"
    }
   ],
   "source": [
    "z = a_b_test_statistic(1000, 200, 1000, 180)\n",
    "z"
   ]
  },
  {
   "cell_type": "code",
   "execution_count": 33,
   "metadata": {
    "ExecuteTime": {
     "end_time": "2020-03-02T11:59:40.672199Z",
     "start_time": "2020-03-02T11:59:40.668182Z"
    }
   },
   "outputs": [
    {
     "data": {
      "text/plain": [
       "0.254141976542236"
      ]
     },
     "execution_count": 33,
     "metadata": {},
     "output_type": "execute_result"
    }
   ],
   "source": [
    "two_sided_p_value(z)"
   ]
  },
  {
   "cell_type": "code",
   "execution_count": 34,
   "metadata": {
    "ExecuteTime": {
     "end_time": "2020-03-02T12:00:23.831867Z",
     "start_time": "2020-03-02T12:00:23.826881Z"
    }
   },
   "outputs": [
    {
     "data": {
      "text/plain": [
       "0.003189699706216853"
      ]
     },
     "execution_count": 34,
     "metadata": {},
     "output_type": "execute_result"
    }
   ],
   "source": [
    "z = a_b_test_statistic(1000, 200, 1000, 150) # -2.94\n",
    "two_sided_p_value(z)"
   ]
  }
 ],
 "metadata": {
  "hide_input": false,
  "kernelspec": {
   "display_name": "Python 3",
   "language": "python",
   "name": "python3"
  },
  "language_info": {
   "codemirror_mode": {
    "name": "ipython",
    "version": 3
   },
   "file_extension": ".py",
   "mimetype": "text/x-python",
   "name": "python",
   "nbconvert_exporter": "python",
   "pygments_lexer": "ipython3",
   "version": "3.6.8"
  }
 },
 "nbformat": 4,
 "nbformat_minor": 2
}
