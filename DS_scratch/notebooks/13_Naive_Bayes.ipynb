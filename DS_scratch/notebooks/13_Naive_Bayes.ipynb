{
 "cells": [
  {
   "cell_type": "markdown",
   "metadata": {},
   "source": [
    "# Bayes rule\n",
    "\n",
    "[source](https://www.youtube.com/watch?v=kz2tvO_ZAKI&list=PLUl4u3cNGP60hI9ATjSFgLZpbNJ7myAg6&index=29)"
   ]
  },
  {
   "cell_type": "markdown",
   "metadata": {},
   "source": [
    "1. Partition sample space into $A_1$,$A_2$,$A_3$....\n",
    "2. Have $P(A_i)$ for every i .    **Note** these are initial beliefs\n",
    "3. Let sample space is such that $event(B) = \\sum_{i}event(B \\cap A_i)$\n",
    "    * $P(B) = \\sum_{i}P(B \\cap A_i)$\n",
    "4. Have $P(B|A_i)$. for every i\n",
    "5. Revised belief given that B occured :\n",
    "    * $P(A_i|B) = \\dfrac{P(A_i \\cap B)}{P(B)} = \\dfrac{P(A_i)P(B|A_i)}{\\sum_{j}P(A_j)P(B|A_j)}$ "
   ]
  },
  {
   "cell_type": "markdown",
   "metadata": {},
   "source": [
    "# Naive Bayes"
   ]
  },
  {
   "cell_type": "markdown",
   "metadata": {
    "ExecuteTime": {
     "end_time": "2020-03-25T08:12:08.600935Z",
     "start_time": "2020-03-25T08:12:08.596603Z"
    }
   },
   "source": [
    "## Example 1\n",
    "[source](https://machinelearningmastery.com/naive-bayes-tutorial-for-machine-learning/)"
   ]
  },
  {
   "cell_type": "code",
   "execution_count": 1,
   "metadata": {
    "ExecuteTime": {
     "end_time": "2020-03-25T12:04:52.311299Z",
     "start_time": "2020-03-25T12:04:51.749404Z"
    }
   },
   "outputs": [],
   "source": [
    "import pandas as pd\n",
    "from io import StringIO"
   ]
  },
  {
   "cell_type": "markdown",
   "metadata": {},
   "source": [
    "### Data"
   ]
  },
  {
   "cell_type": "code",
   "execution_count": 2,
   "metadata": {
    "ExecuteTime": {
     "end_time": "2020-03-25T12:04:52.360344Z",
     "start_time": "2020-03-25T12:04:52.317019Z"
    }
   },
   "outputs": [
    {
     "data": {
      "text/html": [
       "<div>\n",
       "<style scoped>\n",
       "    .dataframe tbody tr th:only-of-type {\n",
       "        vertical-align: middle;\n",
       "    }\n",
       "\n",
       "    .dataframe tbody tr th {\n",
       "        vertical-align: top;\n",
       "    }\n",
       "\n",
       "    .dataframe thead th {\n",
       "        text-align: right;\n",
       "    }\n",
       "</style>\n",
       "<table border=\"1\" class=\"dataframe\">\n",
       "  <thead>\n",
       "    <tr style=\"text-align: right;\">\n",
       "      <th></th>\n",
       "      <th>Weather</th>\n",
       "      <th>Car</th>\n",
       "      <th>Class</th>\n",
       "    </tr>\n",
       "  </thead>\n",
       "  <tbody>\n",
       "    <tr>\n",
       "      <th>0</th>\n",
       "      <td>sunny</td>\n",
       "      <td>working</td>\n",
       "      <td>go-out</td>\n",
       "    </tr>\n",
       "    <tr>\n",
       "      <th>1</th>\n",
       "      <td>rainy</td>\n",
       "      <td>broken</td>\n",
       "      <td>go-out</td>\n",
       "    </tr>\n",
       "    <tr>\n",
       "      <th>2</th>\n",
       "      <td>sunny</td>\n",
       "      <td>working</td>\n",
       "      <td>go-out</td>\n",
       "    </tr>\n",
       "    <tr>\n",
       "      <th>3</th>\n",
       "      <td>sunny</td>\n",
       "      <td>working</td>\n",
       "      <td>go-out</td>\n",
       "    </tr>\n",
       "    <tr>\n",
       "      <th>4</th>\n",
       "      <td>sunny</td>\n",
       "      <td>working</td>\n",
       "      <td>go-out</td>\n",
       "    </tr>\n",
       "    <tr>\n",
       "      <th>5</th>\n",
       "      <td>rainy</td>\n",
       "      <td>broken</td>\n",
       "      <td>stay-home</td>\n",
       "    </tr>\n",
       "    <tr>\n",
       "      <th>6</th>\n",
       "      <td>rainy</td>\n",
       "      <td>broken</td>\n",
       "      <td>stay-home</td>\n",
       "    </tr>\n",
       "    <tr>\n",
       "      <th>7</th>\n",
       "      <td>sunny</td>\n",
       "      <td>working</td>\n",
       "      <td>stay-home</td>\n",
       "    </tr>\n",
       "    <tr>\n",
       "      <th>8</th>\n",
       "      <td>sunny</td>\n",
       "      <td>broken</td>\n",
       "      <td>stay-home</td>\n",
       "    </tr>\n",
       "    <tr>\n",
       "      <th>9</th>\n",
       "      <td>rainy</td>\n",
       "      <td>broken</td>\n",
       "      <td>stay-home</td>\n",
       "    </tr>\n",
       "  </tbody>\n",
       "</table>\n",
       "</div>"
      ],
      "text/plain": [
       "  Weather      Car      Class\n",
       "0   sunny  working     go-out\n",
       "1   rainy   broken     go-out\n",
       "2   sunny  working     go-out\n",
       "3   sunny  working     go-out\n",
       "4   sunny  working     go-out\n",
       "5   rainy   broken  stay-home\n",
       "6   rainy   broken  stay-home\n",
       "7   sunny  working  stay-home\n",
       "8   sunny   broken  stay-home\n",
       "9   rainy   broken  stay-home"
      ]
     },
     "execution_count": 2,
     "metadata": {},
     "output_type": "execute_result"
    }
   ],
   "source": [
    "input_data_str = u\"\"\"Weather\tCar\tClass\n",
    "sunny\tworking\tgo-out\n",
    "rainy\tbroken\tgo-out\n",
    "sunny\tworking\tgo-out\n",
    "sunny\tworking\tgo-out\n",
    "sunny\tworking\tgo-out\n",
    "rainy\tbroken\tstay-home\n",
    "rainy\tbroken\tstay-home\n",
    "sunny\tworking\tstay-home\n",
    "sunny\tbroken\tstay-home\n",
    "rainy\tbroken\tstay-home\n",
    "\"\"\"\n",
    "\n",
    "input_buffer = StringIO(input_data_str)\n",
    "data_df = pd.read_csv(input_buffer,sep='\\t')\n",
    "data_df"
   ]
  },
  {
   "cell_type": "markdown",
   "metadata": {},
   "source": [
    "### Training"
   ]
  },
  {
   "cell_type": "markdown",
   "metadata": {
    "ExecuteTime": {
     "end_time": "2020-03-25T08:25:54.549887Z",
     "start_time": "2020-03-25T08:25:54.541362Z"
    }
   },
   "source": [
    "let event $Y_o$, is event of 'go-out' and $Y_s$ for 'stay-home' , step [1](#Bayes-rule))\n",
    "\n",
    "Calculate initial belief $P(Y_o)$ and $P(Y_s)$, step [2](#Bayes-rule) "
   ]
  },
  {
   "cell_type": "code",
   "execution_count": 3,
   "metadata": {
    "ExecuteTime": {
     "end_time": "2020-03-25T12:04:52.378532Z",
     "start_time": "2020-03-25T12:04:52.365941Z"
    }
   },
   "outputs": [
    {
     "data": {
      "text/plain": [
       "(0.5, 0.5)"
      ]
     },
     "execution_count": 3,
     "metadata": {},
     "output_type": "execute_result"
    }
   ],
   "source": [
    "prob_Yo = len(data_df[data_df['Class']=='go-out'])/float(len(data_df.Class)) # 5/10 \n",
    "prob_Ys = len(data_df[data_df['Class']=='stay-home'])/float(len(data_df.Class)) # 5/10 \n",
    "\n",
    "prob_Yo, prob_Ys"
   ]
  },
  {
   "cell_type": "markdown",
   "metadata": {
    "ExecuteTime": {
     "end_time": "2020-03-25T10:28:15.647772Z",
     "start_time": "2020-03-25T10:28:15.639440Z"
    }
   },
   "source": [
    "Let:\n",
    "\n",
    "* $W_s$ event whether is sunny \n",
    "* $W_r$ event whether is rainy\n",
    "* $C_w$ event Car is working\n",
    "* $C_b$ event Car is broken\n",
    "    "
   ]
  },
  {
   "cell_type": "code",
   "execution_count": 4,
   "metadata": {
    "ExecuteTime": {
     "end_time": "2020-03-25T12:04:52.413947Z",
     "start_time": "2020-03-25T12:04:52.383961Z"
    }
   },
   "outputs": [
    {
     "name": "stdout",
     "output_type": "stream",
     "text": [
      "Prob(Weather = sunny | Class = 'go-out') = 0.8\n",
      "Prob(Weather = rainy | Class = 'go-out') = 0.2\n",
      "Prob(Weather = sunny | Class = 'stay-home') = 0.4\n",
      "Prob(Weather = rainy | Class = 'stay-home') = 0.6\n"
     ]
    }
   ],
   "source": [
    "# Prob(Weather = sunny | Class = 'go-out')\n",
    "# = Prob(Weather = sunny and Class = 'go-out')/Prob(Class = 'go-out')\n",
    "# = count(Weather = sunny and Class = 'go-out')/count(Class = 'go-out')\n",
    "\n",
    "cond_Ws = data_df['Weather']=='sunny'\n",
    "cond_Yo = data_df['Class']=='go-out'\n",
    "prob_Ws_given_Yo = len(data_df[cond_Ws & cond_Yo])/float(len(data_df[cond_Yo]))\n",
    "print(\"Prob(Weather = sunny | Class = 'go-out') = {}\".format(prob_Ws_given_Yo))\n",
    "\n",
    "# Prob(Weather = rainy | Class = 'go-out')\n",
    "# = Prob(Weather = rainy and Class = 'go-out')/Prob(Class = 'go-out')\n",
    "# = count(Weather = rainy and Class = 'go-out')/count(Class = 'go-out')\n",
    "cond_Wr = data_df['Weather']=='rainy'\n",
    "prob_Wr_given_Yo = len(data_df[cond_Wr & cond_Yo])/float(len(data_df[cond_Yo]))\n",
    "print(\"Prob(Weather = rainy | Class = 'go-out') = {}\".format(prob_Wr_given_Yo))\n",
    "\n",
    "# Prob(Weather = sunny | Class = 'stay-home')\n",
    "# = Prob(Weather = sunny and Class = 'stay-home')/Prob(Class = 'stay-home')\n",
    "# = count(Weather = sunny and Class = 'stay-home')/count(Class = 'stay-home')\n",
    "\n",
    "cond_Ws = data_df['Weather']=='sunny'\n",
    "cond_Ys = data_df['Class']=='stay-home'\n",
    "prob_Ws_given_Ys = len(data_df[cond_Ws & cond_Ys])/float(len(data_df[cond_Ys]))\n",
    "print(\"Prob(Weather = sunny | Class = 'stay-home') = {}\".format(prob_Ws_given_Ys))\n",
    "\n",
    "# Prob(Weather = rainy | Class = 'stay-home')\n",
    "# = Prob(Weather = rainy and Class = 'stay-home')/Prob(Class = 'stay-home')\n",
    "# = count(Weather = rainy and Class = 'stay-home')/count(Class = 'stay-home')\n",
    "cond_Wr = data_df['Weather']=='rainy'\n",
    "prob_Wr_given_Ys = len(data_df[cond_Wr & cond_Ys])/float(len(data_df[cond_Ys]))\n",
    "print(\"Prob(Weather = rainy | Class = 'stay-home') = {}\".format(prob_Wr_given_Ys))\n"
   ]
  },
  {
   "cell_type": "code",
   "execution_count": 5,
   "metadata": {
    "ExecuteTime": {
     "end_time": "2020-03-25T12:04:52.449138Z",
     "start_time": "2020-03-25T12:04:52.418936Z"
    }
   },
   "outputs": [
    {
     "name": "stdout",
     "output_type": "stream",
     "text": [
      "Prob(Car = working | Class = 'go-out') = 0.8\n",
      "Prob(Car = broken | Class = 'go-out') = 0.2\n",
      "Prob(Car = working | Class = 'stay-home') = 0.2\n",
      "Prob(Car = broken | Class = 'stay-home') = 0.8\n"
     ]
    }
   ],
   "source": [
    "# Prob(Car = working | Class = 'go-out')\n",
    "# = Prob(Car = working and Class = 'go-out')/Prob(Class = 'go-out')\n",
    "# = count(Car = working and Class = 'go-out')/count(Class = 'go-out')\n",
    "\n",
    "cond_Cw = data_df['Car']=='working'\n",
    "cond_Yo = data_df['Class']=='go-out'\n",
    "prob_Cw_given_Yo = len(data_df[cond_Cw & cond_Yo])/float(len(data_df[cond_Yo]))\n",
    "print(\"Prob(Car = working | Class = 'go-out') = {}\".format(prob_Cw_given_Yo))\n",
    "\n",
    "# Prob(Car = broken | Class = 'go-out')\n",
    "# = Prob(Car = broken and Class = 'go-out')/Prob(Class = 'go-out')\n",
    "# = count(Car = broken and Class = 'go-out')/count(Class = 'go-out')\n",
    "cond_Cb = data_df['Car']=='broken'\n",
    "prob_Cb_given_Yo = len(data_df[cond_Cb & cond_Yo])/float(len(data_df[cond_Yo]))\n",
    "print(\"Prob(Car = broken | Class = 'go-out') = {}\".format(prob_Cb_given_Yo))\n",
    "\n",
    "# Prob(Car = working | Class = 'stay-home')\n",
    "# = Prob(Car = working and Class = 'stay-home')/Prob(Class = 'stay-home')\n",
    "# = count(Car = working and Class = 'stay-home')/count(Class = 'stay-home')\n",
    "\n",
    "cond_Cw = data_df['Car']=='working'\n",
    "cond_Ys = data_df['Class']=='stay-home'\n",
    "prob_Cw_given_Ys = len(data_df[cond_Cw & cond_Ys])/float(len(data_df[cond_Ys]))\n",
    "print(\"Prob(Car = working | Class = 'stay-home') = {}\".format(prob_Cw_given_Ys))\n",
    "\n",
    "# Prob(Car = broken | Class = 'stay-home')\n",
    "# = Prob(Car = broken and Class = 'stay-home')/Prob(Class = 'stay-home')\n",
    "# = count(Car = broken and Class = 'stay-home')/count(Class = 'stay-home')\n",
    "cond_Cb = data_df['Car']=='broken'\n",
    "prob_Cb_given_Ys = len(data_df[cond_Cb & cond_Ys])/float(len(data_df[cond_Ys]))\n",
    "print(\"Prob(Car = broken | Class = 'stay-home') = {}\".format(prob_Cb_given_Ys))\n"
   ]
  },
  {
   "cell_type": "markdown",
   "metadata": {},
   "source": [
    "### Inference "
   ]
  },
  {
   "cell_type": "markdown",
   "metadata": {},
   "source": [
    "Let input test data is Weather=sunny Car=working\n",
    "\n",
    "We want to calculate\n",
    "* Prob(Class = go-out | Weather=sunny, Car=working) \n",
    "    * = $P(Y_o|W_s \\cap C_w) = \\dfrac{P(Y_o)*P(W_s\\cap C_w|Y_o)}{P(W_s\\cap C_w)}$ \n",
    "    * = $\\dfrac{P(Y_o)*P(W_s|Y_o)* P(C_w|Y_o)}{P(W_s\\cap C_w)}$, since Weather and Car are assumed independent\n",
    "    * = \n",
    "* Prob(Class = stay-home | Weather=sunny, Car=working) \n",
    "    * = $P(Y_s|W_s \\cap C_w) = \\dfrac{P(Y_s)*P(W_s\\cap C_w|Y_s)}{P(W_s\\cap C_w)}$ \n",
    "    * = $\\dfrac{P(Y_s)*P(W_s|Y_s)* P(C_w|Y_s)}{P(W_s\\cap C_w)}$ \n",
    "    * Since Weather and Car are assumed independent\n",
    "    \n",
    "**Note:** We only need the numerator and the class that gives the largest response, which will be the predicted output. We don't need calculate denominator $P(W_s\\cap C_w)$\n",
    "\n",
    "Hence we will calculate function:\n",
    "* $M(Y_o|W_s \\cap C_w) = P(Y_o)*P(W_s|Y_o)* P(C_w|Y_o)$\n",
    "* $M(Y_s|W_s \\cap C_w) = P(Y_s)*P(W_s|Y_s)* P(C_w|Y_s)$\n",
    "* Class with maximum M() value will be inferred output"
   ]
  },
  {
   "cell_type": "code",
   "execution_count": 8,
   "metadata": {
    "ExecuteTime": {
     "end_time": "2020-03-25T12:19:04.109250Z",
     "start_time": "2020-03-25T12:19:04.099175Z"
    }
   },
   "outputs": [
    {
     "data": {
      "text/plain": [
       "(0.32000000000000006, 0.04000000000000001)"
      ]
     },
     "execution_count": 8,
     "metadata": {},
     "output_type": "execute_result"
    }
   ],
   "source": [
    "m_Yo = prob_Yo * prob_Ws_given_Yo * prob_Cw_given_Yo\n",
    "m_Ys = prob_Ys * prob_Ws_given_Ys * prob_Cw_given_Ys\n",
    "m_Yo, m_Ys"
   ]
  },
  {
   "cell_type": "markdown",
   "metadata": {
    "ExecuteTime": {
     "end_time": "2020-03-25T12:20:20.196670Z",
     "start_time": "2020-03-25T12:20:20.187496Z"
    }
   },
   "source": [
    "From above inferene output of input test data is Weather='sunny' Car='working' is 'go-out'"
   ]
  },
  {
   "cell_type": "code",
   "execution_count": 24,
   "metadata": {
    "ExecuteTime": {
     "end_time": "2020-03-25T12:30:46.399036Z",
     "start_time": "2020-03-25T12:30:46.344980Z"
    }
   },
   "outputs": [
    {
     "data": {
      "text/html": [
       "<div>\n",
       "<style scoped>\n",
       "    .dataframe tbody tr th:only-of-type {\n",
       "        vertical-align: middle;\n",
       "    }\n",
       "\n",
       "    .dataframe tbody tr th {\n",
       "        vertical-align: top;\n",
       "    }\n",
       "\n",
       "    .dataframe thead th {\n",
       "        text-align: right;\n",
       "    }\n",
       "</style>\n",
       "<table border=\"1\" class=\"dataframe\">\n",
       "  <thead>\n",
       "    <tr style=\"text-align: right;\">\n",
       "      <th></th>\n",
       "      <th>Weather</th>\n",
       "      <th>Car</th>\n",
       "      <th>Class</th>\n",
       "      <th>pred_class</th>\n",
       "    </tr>\n",
       "  </thead>\n",
       "  <tbody>\n",
       "    <tr>\n",
       "      <th>0</th>\n",
       "      <td>sunny</td>\n",
       "      <td>working</td>\n",
       "      <td>go-out</td>\n",
       "      <td>go-out</td>\n",
       "    </tr>\n",
       "    <tr>\n",
       "      <th>1</th>\n",
       "      <td>rainy</td>\n",
       "      <td>broken</td>\n",
       "      <td>go-out</td>\n",
       "      <td>stay-home</td>\n",
       "    </tr>\n",
       "    <tr>\n",
       "      <th>2</th>\n",
       "      <td>sunny</td>\n",
       "      <td>working</td>\n",
       "      <td>go-out</td>\n",
       "      <td>go-out</td>\n",
       "    </tr>\n",
       "    <tr>\n",
       "      <th>3</th>\n",
       "      <td>sunny</td>\n",
       "      <td>working</td>\n",
       "      <td>go-out</td>\n",
       "      <td>go-out</td>\n",
       "    </tr>\n",
       "    <tr>\n",
       "      <th>4</th>\n",
       "      <td>sunny</td>\n",
       "      <td>working</td>\n",
       "      <td>go-out</td>\n",
       "      <td>go-out</td>\n",
       "    </tr>\n",
       "    <tr>\n",
       "      <th>5</th>\n",
       "      <td>rainy</td>\n",
       "      <td>broken</td>\n",
       "      <td>stay-home</td>\n",
       "      <td>stay-home</td>\n",
       "    </tr>\n",
       "    <tr>\n",
       "      <th>6</th>\n",
       "      <td>rainy</td>\n",
       "      <td>broken</td>\n",
       "      <td>stay-home</td>\n",
       "      <td>stay-home</td>\n",
       "    </tr>\n",
       "    <tr>\n",
       "      <th>7</th>\n",
       "      <td>sunny</td>\n",
       "      <td>working</td>\n",
       "      <td>stay-home</td>\n",
       "      <td>go-out</td>\n",
       "    </tr>\n",
       "    <tr>\n",
       "      <th>8</th>\n",
       "      <td>sunny</td>\n",
       "      <td>broken</td>\n",
       "      <td>stay-home</td>\n",
       "      <td>stay-home</td>\n",
       "    </tr>\n",
       "    <tr>\n",
       "      <th>9</th>\n",
       "      <td>rainy</td>\n",
       "      <td>broken</td>\n",
       "      <td>stay-home</td>\n",
       "      <td>stay-home</td>\n",
       "    </tr>\n",
       "  </tbody>\n",
       "</table>\n",
       "</div>"
      ],
      "text/plain": [
       "  Weather      Car      Class pred_class\n",
       "0   sunny  working     go-out     go-out\n",
       "1   rainy   broken     go-out  stay-home\n",
       "2   sunny  working     go-out     go-out\n",
       "3   sunny  working     go-out     go-out\n",
       "4   sunny  working     go-out     go-out\n",
       "5   rainy   broken  stay-home  stay-home\n",
       "6   rainy   broken  stay-home  stay-home\n",
       "7   sunny  working  stay-home     go-out\n",
       "8   sunny   broken  stay-home  stay-home\n",
       "9   rainy   broken  stay-home  stay-home"
      ]
     },
     "execution_count": 24,
     "metadata": {},
     "output_type": "execute_result"
    }
   ],
   "source": [
    "# Prediction function\n",
    "\n",
    "def pred_single(weather, car):\n",
    "    yo_w = None\n",
    "    ys_w = None\n",
    "    yo_c = None\n",
    "    ys_c = None\n",
    "    if weather == 'sunny' and car=='working':\n",
    "        yo_w = prob_Ws_given_Yo\n",
    "        yo_c = prob_Cw_given_Yo\n",
    "        ys_w = prob_Ws_given_Ys\n",
    "        ys_c = prob_Cw_given_Ys\n",
    "        \n",
    "    elif weather == 'sunny' and car=='broken':\n",
    "        yo_w = prob_Ws_given_Yo\n",
    "        yo_c = prob_Cb_given_Yo\n",
    "        ys_w = prob_Ws_given_Ys\n",
    "        ys_c = prob_Cb_given_Ys\n",
    "        \n",
    "    elif weather == 'rainy' and car=='working':\n",
    "        yo_w = prob_Wr_given_Yo\n",
    "        yo_c = prob_Cw_given_Yo\n",
    "        ys_w = prob_Wr_given_Ys\n",
    "        ys_c = prob_Cw_given_Ys\n",
    "        \n",
    "    elif weather == 'rainy' and car=='broken':\n",
    "        yo_w = prob_Wr_given_Yo\n",
    "        yo_c = prob_Cb_given_Yo\n",
    "        ys_w = prob_Wr_given_Ys\n",
    "        ys_c = prob_Cb_given_Ys\n",
    "    else:\n",
    "        raise Exception\n",
    "        \n",
    "    map_yo = prob_Yo * yo_w * yo_c\n",
    "    map_ys = prob_Ys * ys_w * ys_c\n",
    "    \n",
    "    if map_yo > map_ys:\n",
    "        return 'go-out'\n",
    "    else:\n",
    "        return 'stay-home'\n",
    "    \n",
    "        \n",
    "        \n",
    "    \n",
    "\n",
    "test_X = data_df[['Weather','Car']].values\n",
    "output_list = []\n",
    "for w,c in test_X:\n",
    "    out_single = pred_single(w,c)\n",
    "    output_list.append(out_single)\n",
    "\n",
    "data_df['pred_class'] = output_list\n",
    "data_df"
   ]
  },
  {
   "cell_type": "code",
   "execution_count": null,
   "metadata": {},
   "outputs": [],
   "source": []
  }
 ],
 "metadata": {
  "hide_input": false,
  "kernelspec": {
   "display_name": "Python 2",
   "language": "python",
   "name": "python2"
  },
  "language_info": {
   "codemirror_mode": {
    "name": "ipython",
    "version": 2
   },
   "file_extension": ".py",
   "mimetype": "text/x-python",
   "name": "python",
   "nbconvert_exporter": "python",
   "pygments_lexer": "ipython2",
   "version": "2.7.15"
  }
 },
 "nbformat": 4,
 "nbformat_minor": 2
}
