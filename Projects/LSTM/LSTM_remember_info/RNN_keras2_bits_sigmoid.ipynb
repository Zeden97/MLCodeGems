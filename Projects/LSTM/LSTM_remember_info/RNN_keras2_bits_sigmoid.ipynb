{
 "cells": [
  {
   "cell_type": "code",
   "execution_count": 1,
   "metadata": {
    "ExecuteTime": {
     "end_time": "2020-02-13T09:05:29.884013Z",
     "start_time": "2020-02-13T09:05:21.238659Z"
    }
   },
   "outputs": [],
   "source": [
    "import numpy as np\n",
    "import tensorflow as tf\n",
    "from tensorflow.keras import layers\n",
    "from tensorflow.keras import optimizers\n",
    "from saveload import load_obj\n",
    "import matplotlib.pyplot as plt\n",
    "from tensorflow.keras.callbacks import LearningRateScheduler\n",
    "from tensorflow.keras import metrics\n",
    "from tensorflow.keras import backend as K\n",
    "import os\n",
    "import random\n",
    "import seaborn as sns\n",
    "import pandas as pd\n",
    "from sklearn.metrics import accuracy_score, classification_report\n",
    "from tensorflow.keras import backend\n",
    "tf.get_logger().setLevel('ERROR')\n",
    "os.environ['KMP_DUPLICATE_LIB_OK']='True'\n",
    "from numpy.random import seed\n",
    "from tensorflow import set_random_seed"
   ]
  },
  {
   "cell_type": "code",
   "execution_count": 2,
   "metadata": {
    "ExecuteTime": {
     "end_time": "2020-02-13T09:05:30.263901Z",
     "start_time": "2020-02-13T09:05:29.890988Z"
    }
   },
   "outputs": [],
   "source": [
    "seed(17)\n",
    "set_random_seed(10)"
   ]
  },
  {
   "cell_type": "markdown",
   "metadata": {},
   "source": [
    "## Prior reading \n",
    "\n",
    "Please go through Colah's blog on LSTM [here](http://colah.github.io/posts/2015-08-Understanding-LSTMs/). Colah's blog explains LSTM are more capable to remember long term dependencies as compared to simple RNN. In this exercise we will see by example how LSTM remembers an information."
   ]
  },
  {
   "cell_type": "markdown",
   "metadata": {
    "ExecuteTime": {
     "end_time": "2020-02-12T09:23:45.289382Z",
     "start_time": "2020-02-12T09:23:45.286803Z"
    }
   },
   "source": [
    "## Problem\n",
    "\n",
    "How LSTM learns to add two binary numbers. We will see how LSTM remembers carry bit. "
   ]
  },
  {
   "cell_type": "markdown",
   "metadata": {},
   "source": [
    "## Dataset"
   ]
  },
  {
   "cell_type": "code",
   "execution_count": 7,
   "metadata": {
    "ExecuteTime": {
     "end_time": "2020-02-13T09:06:14.777811Z",
     "start_time": "2020-02-13T09:06:14.749887Z"
    },
    "scrolled": true
   },
   "outputs": [],
   "source": [
    "train_X = load_obj('bits/train_X')\n",
    "test_X = load_obj('bits/test_X')\n",
    "train_y = load_obj('bits/train_y')\n",
    "train_y = train_y[:,:,-1:]\n",
    "test_y = load_obj('bits/test_y')\n",
    "test_y = test_y[:,:,-1:]"
   ]
  },
  {
   "cell_type": "markdown",
   "metadata": {
    "ExecuteTime": {
     "end_time": "2020-02-12T09:27:54.958358Z",
     "start_time": "2020-02-12T09:27:54.955569Z"
    }
   },
   "source": [
    "### Dataset example\n",
    "\n",
    "As shown below we see that binary digits in dataset are stored as **Least significant bit first**. Input train sample has 2 binary digits **0011** and **0011** and there sum is expected output of **0110**"
   ]
  },
  {
   "cell_type": "markdown",
   "metadata": {
    "ExecuteTime": {
     "end_time": "2020-02-12T09:32:15.854952Z",
     "start_time": "2020-02-12T09:32:15.850372Z"
    }
   },
   "source": [
    "Input train sample"
   ]
  },
  {
   "cell_type": "code",
   "execution_count": 8,
   "metadata": {
    "ExecuteTime": {
     "end_time": "2020-02-13T09:06:16.233464Z",
     "start_time": "2020-02-13T09:06:16.228482Z"
    }
   },
   "outputs": [
    {
     "name": "stdout",
     "output_type": "stream",
     "text": [
      "[[1 1]\n",
      " [1 1]\n",
      " [0 0]\n",
      " [0 0]]\n"
     ]
    }
   ],
   "source": [
    "print(train_X[0])"
   ]
  },
  {
   "cell_type": "markdown",
   "metadata": {},
   "source": [
    "Corresponding output sample"
   ]
  },
  {
   "cell_type": "code",
   "execution_count": 9,
   "metadata": {
    "ExecuteTime": {
     "end_time": "2020-02-13T09:06:16.888902Z",
     "start_time": "2020-02-13T09:06:16.884885Z"
    }
   },
   "outputs": [
    {
     "name": "stdout",
     "output_type": "stream",
     "text": [
      "[[0]\n",
      " [1]\n",
      " [1]\n",
      " [0]]\n"
     ]
    }
   ],
   "source": [
    "print(train_y[0])"
   ]
  },
  {
   "cell_type": "markdown",
   "metadata": {},
   "source": [
    "## Training"
   ]
  },
  {
   "cell_type": "code",
   "execution_count": 10,
   "metadata": {
    "ExecuteTime": {
     "end_time": "2020-02-13T09:06:58.495525Z",
     "start_time": "2020-02-13T09:06:17.732978Z"
    }
   },
   "outputs": [
    {
     "name": "stdout",
     "output_type": "stream",
     "text": [
      "_________________________________________________________________\n",
      "Layer (type)                 Output Shape              Param #   \n",
      "=================================================================\n",
      "lstm_1 (LSTM)                (None, 4, 2)              40        \n",
      "_________________________________________________________________\n",
      "dense_1 (Dense)              (None, 4, 1)              3         \n",
      "=================================================================\n",
      "Total params: 43\n",
      "Trainable params: 43\n",
      "Non-trainable params: 0\n",
      "_________________________________________________________________\n",
      "None\n"
     ]
    },
    {
     "data": {
      "text/plain": [
       "<tensorflow.python.keras.callbacks.History at 0x1d600172f28>"
      ]
     },
     "execution_count": 10,
     "metadata": {},
     "output_type": "execute_result"
    }
   ],
   "source": [
    "model = tf.keras.Sequential()\n",
    "model.add(layers.LSTM(input_shape=(4, 2), use_bias=True, units=2, return_sequences=True))\n",
    "model.add(layers.Dense(1, activation='sigmoid'))\n",
    "print(model.summary())\n",
    "\n",
    "total_epochs = 60\n",
    "\n",
    "def time_decay(epoch):\n",
    "    initial_lrate, end_lrate = 0.3, 0.09\n",
    "    decay = (initial_lrate-end_lrate)/total_epochs\n",
    "    new_lrate = decay * epoch\n",
    "    return new_lrate\n",
    "\n",
    "callback = LearningRateScheduler(time_decay)\n",
    "\n",
    "model.compile(loss='binary_crossentropy',\n",
    "              optimizer='rmsprop',\n",
    "              metrics=['accuracy'])\n",
    "\n",
    "model.fit(train_X, train_y,\n",
    "          validation_data=(test_X, test_y),\n",
    "          batch_size=10,\n",
    "          epochs=total_epochs,\n",
    "          callbacks=[callback],verbose=0)"
   ]
  },
  {
   "cell_type": "markdown",
   "metadata": {},
   "source": [
    "## Test accuracy"
   ]
  },
  {
   "cell_type": "code",
   "execution_count": 11,
   "metadata": {
    "ExecuteTime": {
     "end_time": "2020-02-13T09:06:58.667065Z",
     "start_time": "2020-02-13T09:06:58.497518Z"
    }
   },
   "outputs": [
    {
     "data": {
      "text/plain": [
       "0.99609375"
      ]
     },
     "execution_count": 11,
     "metadata": {},
     "output_type": "execute_result"
    }
   ],
   "source": [
    "y_pred = model.predict_classes(test_X)\n",
    "y_true = test_y[:,:,0]\n",
    "acc= accuracy_score(y_true.flatten(), y_pred.flatten())\n",
    "acc"
   ]
  },
  {
   "cell_type": "markdown",
   "metadata": {},
   "source": [
    "## Check how cell state $C_t$ stores carry\n",
    "\n",
    "We believe that cell state $C_t$ stores the carry information. We take the trained weights from keras model. We have got cell state when carry is 0 or 1 for each LSTM prediction. "
   ]
  },
  {
   "cell_type": "code",
   "execution_count": 12,
   "metadata": {
    "ExecuteTime": {
     "end_time": "2020-02-13T09:06:59.059989Z",
     "start_time": "2020-02-13T09:06:58.668063Z"
    },
    "scrolled": true
   },
   "outputs": [],
   "source": [
    "weightLSTM = model.layers[0].get_weights()\n",
    "w1 = model.layers[1].get_weights()[0]\n",
    "b1 = model.layers[1].get_weights()[1]\n",
    "c_t_list = []\n",
    "carry_list = []\n",
    "\n",
    "def sigmoid(x):\n",
    "    return(1.0/(1.0+np.exp(-x)))\n",
    "\n",
    "# Source : https://stackoverflow.com/questions/52026823/keras-lstm-layer-output-and-the-output-of-a-numpy-lstm-implementation-are-simila\n",
    "def LSTMlayer(weight,x_t,h_tm1,c_tm1):\n",
    "    '''\n",
    "    c_tm1 = np.array([0,0]).reshape(1,2) # Previous cell state\n",
    "    h_tm1 = np.array([0,0]).reshape(1,2) # Previous output\n",
    "    x_t   = np.array([1]).reshape(1,1)\n",
    "    \n",
    "    warr.shape = (nfeature,hunits*4)\n",
    "    uarr.shape = (hunits,hunits*4)\n",
    "    barr.shape = (hunits*4,)\n",
    "    '''\n",
    "    warr,uarr, barr = weight\n",
    "    s_t = (x_t.dot(warr) + h_tm1.dot(uarr) + barr)\n",
    "    hunit = uarr.shape[0]\n",
    "    i  = sigmoid(s_t[:,:hunit])\n",
    "    f  = sigmoid(s_t[:,1*hunit:2*hunit])\n",
    "    _c = np.tanh(s_t[:,2*hunit:3*hunit])\n",
    "    o  = sigmoid(s_t[:,3*hunit:])\n",
    "    c_t = i*_c + f*c_tm1 # new cell state\n",
    "    h_t = o*np.tanh(c_t) # new output\n",
    "    return(h_t,c_t)\n",
    "\n",
    "# Simulate prediction and save carry and corresponding cell state info\n",
    "for j in range(100):\n",
    "    xs = test_X[j]\n",
    "    hunits = 2\n",
    "    c_t = np.array([0]*hunits).reshape(1,hunits)\n",
    "    h_t = np.array([0]*hunits).reshape(1,hunits)\n",
    "    carry = 0\n",
    "    for i in range(len(xs)):\n",
    "        x_t = xs[i]\n",
    "        tsum = x_t.sum() + carry\n",
    "        if tsum==2 or tsum==3:\n",
    "            carry = 1\n",
    "        else:\n",
    "            carry = 0\n",
    "        h_t,c_t = LSTMlayer(weightLSTM,x_t,h_t,c_t)\n",
    "        c_t_list.append(c_t)\n",
    "        carry_list.append(carry)\n",
    "        \n",
    "c_t_arr = np.concatenate(c_t_list)"
   ]
  },
  {
   "cell_type": "markdown",
   "metadata": {},
   "source": [
    "Cell state data and corresponding carry value"
   ]
  },
  {
   "cell_type": "code",
   "execution_count": 13,
   "metadata": {
    "ExecuteTime": {
     "end_time": "2020-02-13T09:06:59.294376Z",
     "start_time": "2020-02-13T09:06:59.064937Z"
    }
   },
   "outputs": [
    {
     "data": {
      "text/html": [
       "<div>\n",
       "<style scoped>\n",
       "    .dataframe tbody tr th:only-of-type {\n",
       "        vertical-align: middle;\n",
       "    }\n",
       "\n",
       "    .dataframe tbody tr th {\n",
       "        vertical-align: top;\n",
       "    }\n",
       "\n",
       "    .dataframe thead th {\n",
       "        text-align: right;\n",
       "    }\n",
       "</style>\n",
       "<table border=\"1\" class=\"dataframe\">\n",
       "  <thead>\n",
       "    <tr style=\"text-align: right;\">\n",
       "      <th></th>\n",
       "      <th>0</th>\n",
       "      <th>1</th>\n",
       "      <th>carry</th>\n",
       "    </tr>\n",
       "  </thead>\n",
       "  <tbody>\n",
       "    <tr>\n",
       "      <th>0</th>\n",
       "      <td>-0.938934</td>\n",
       "      <td>-0.996008</td>\n",
       "      <td>1</td>\n",
       "    </tr>\n",
       "    <tr>\n",
       "      <th>1</th>\n",
       "      <td>-0.970816</td>\n",
       "      <td>-1.985624</td>\n",
       "      <td>1</td>\n",
       "    </tr>\n",
       "    <tr>\n",
       "      <th>2</th>\n",
       "      <td>-0.900818</td>\n",
       "      <td>-0.910399</td>\n",
       "      <td>1</td>\n",
       "    </tr>\n",
       "    <tr>\n",
       "      <th>3</th>\n",
       "      <td>-0.116658</td>\n",
       "      <td>-0.614460</td>\n",
       "      <td>0</td>\n",
       "    </tr>\n",
       "    <tr>\n",
       "      <th>4</th>\n",
       "      <td>-0.938934</td>\n",
       "      <td>-0.996008</td>\n",
       "      <td>1</td>\n",
       "    </tr>\n",
       "  </tbody>\n",
       "</table>\n",
       "</div>"
      ],
      "text/plain": [
       "          0         1  carry\n",
       "0 -0.938934 -0.996008      1\n",
       "1 -0.970816 -1.985624      1\n",
       "2 -0.900818 -0.910399      1\n",
       "3 -0.116658 -0.614460      0\n",
       "4 -0.938934 -0.996008      1"
      ]
     },
     "execution_count": 13,
     "metadata": {},
     "output_type": "execute_result"
    }
   ],
   "source": [
    "df = pd.DataFrame(c_t_arr)\n",
    "df['carry'] = carry_list\n",
    "df.head()"
   ]
  },
  {
   "cell_type": "markdown",
   "metadata": {},
   "source": [
    "We can see in below scatter plot how cell state saves carry value. Cell states with carry value 1 forms a separate cluster, because which while predicting LSTM can easily classify whether carry value is 1 or 0."
   ]
  },
  {
   "cell_type": "code",
   "execution_count": 14,
   "metadata": {
    "ExecuteTime": {
     "end_time": "2020-02-13T09:07:00.275989Z",
     "start_time": "2020-02-13T09:06:59.302319Z"
    },
    "scrolled": true
   },
   "outputs": [
    {
     "data": {
      "text/plain": [
       "<matplotlib.axes._subplots.AxesSubplot at 0x1d600181e10>"
      ]
     },
     "execution_count": 14,
     "metadata": {},
     "output_type": "execute_result"
    },
    {
     "data": {
      "image/png": "[encoded data removed]",
      "text/plain": [
       "<Figure size 432x288 with 1 Axes>"
      ]
     },
     "metadata": {
      "needs_background": "light"
     },
     "output_type": "display_data"
    }
   ],
   "source": [
    "sns.scatterplot(x=0, y=1, hue='carry',\n",
    "                data=df)"
   ]
  }
 ],
 "metadata": {
  "hide_input": false,
  "kernelspec": {
   "display_name": "Python 3",
   "language": "python",
   "name": "python3"
  },
  "language_info": {
   "codemirror_mode": {
    "name": "ipython",
    "version": 3
   },
   "file_extension": ".py",
   "mimetype": "text/x-python",
   "name": "python",
   "nbconvert_exporter": "python",
   "pygments_lexer": "ipython3",
   "version": "3.6.8"
  }
 },
 "nbformat": 4,
 "nbformat_minor": 2
}
